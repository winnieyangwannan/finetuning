{
 "cells": [
  {
   "cell_type": "code",
   "execution_count": 1,
   "metadata": {},
   "outputs": [
    {
     "name": "stderr",
     "output_type": "stream",
     "text": [
      "/home/local_nikhil/.conda/envs/finetuning/lib/python3.10/site-packages/transformers/utils/generic.py:441: UserWarning: torch.utils._pytree._register_pytree_node is deprecated. Please use torch.utils._pytree.register_pytree_node instead.\n",
      "  _torch_pytree._register_pytree_node(\n",
      "/home/local_nikhil/.conda/envs/finetuning/lib/python3.10/site-packages/transformers/utils/generic.py:309: UserWarning: torch.utils._pytree._register_pytree_node is deprecated. Please use torch.utils._pytree.register_pytree_node instead.\n",
      "  _torch_pytree._register_pytree_node(\n",
      "/home/local_nikhil/.conda/envs/finetuning/lib/python3.10/site-packages/transformers/utils/generic.py:309: UserWarning: torch.utils._pytree._register_pytree_node is deprecated. Please use torch.utils._pytree.register_pytree_node instead.\n",
      "  _torch_pytree._register_pytree_node(\n"
     ]
    },
    {
     "data": {
      "text/plain": [
       "<torch._C.Generator at 0x7f8b7f3cb1d0>"
      ]
     },
     "execution_count": 1,
     "metadata": {},
     "output_type": "execute_result"
    }
   ],
   "source": [
    "import sys\n",
    "import json\n",
    "import copy\n",
    "import numpy as np\n",
    "import matplotlib.pyplot as plt\n",
    "import torch\n",
    "from collections import defaultdict\n",
    "from functools import partial\n",
    "from datasets import Dataset\n",
    "from torch.utils.data import DataLoader\n",
    "from transformers import LlamaTokenizer, LlamaForCausalLM\n",
    "from peft import PeftModel\n",
    "\n",
    "sys.path.append(\"../\")\n",
    "from data.data_utils import *\n",
    "\n",
    "from pp_utils import (\n",
    "    get_model_and_tokenizer,\n",
    "    eval_circuit_performance,\n",
    "    get_mean_activations,\n",
    "    get_final_circuit,\n",
    ")\n",
    "\n",
    "device = torch.device(\"cuda\" if torch.cuda.is_available() else \"cpu\")\n",
    "\n",
    "seed = 5\n",
    "random.seed(seed)\n",
    "np.random.seed(seed)\n",
    "torch.manual_seed(seed)"
   ]
  },
  {
   "cell_type": "markdown",
   "metadata": {},
   "source": [
    "## Loading Model and Tokenizer"
   ]
  },
  {
   "cell_type": "code",
   "execution_count": 2,
   "metadata": {},
   "outputs": [
    {
     "name": "stderr",
     "output_type": "stream",
     "text": [
      "You are using the default legacy behaviour of the <class 'transformers.models.llama.tokenization_llama.LlamaTokenizer'>. This is expected, and simply means that the `legacy` (previous) behavior will be used so nothing changes for you. If you want to use the new behaviour, set `legacy=False`. This should only be set if you understand what it means, and thouroughly read the reason why this was added as explained in https://github.com/huggingface/transformers/pull/24565\n"
     ]
    },
    {
     "data": {
      "application/vnd.jupyter.widget-view+json": {
       "model_id": "5bba348d8c9a4aeb89b50d16a04a13b1",
       "version_major": 2,
       "version_minor": 0
      },
      "text/plain": [
       "Loading checkpoint shards:   0%|          | 0/2 [00:00<?, ?it/s]"
      ]
     },
     "metadata": {},
     "output_type": "display_data"
    }
   ],
   "source": [
    "model, tokenizer = get_model_and_tokenizer(model_name=\"float\")"
   ]
  },
  {
   "cell_type": "markdown",
   "metadata": {},
   "source": [
    "## Loading Evaluation Data"
   ]
  },
  {
   "cell_type": "code",
   "execution_count": 3,
   "metadata": {},
   "outputs": [
    {
     "name": "stdout",
     "output_type": "stream",
     "text": [
      "Length of dataset: 500\n"
     ]
    }
   ],
   "source": [
    "data_file = \"../data/dataset.jsonl\"\n",
    "batch_size = 50\n",
    "\n",
    "raw_data = sample_box_data(\n",
    "    tokenizer=tokenizer,\n",
    "    num_samples=500,\n",
    "    data_file=data_file,\n",
    ")\n",
    "\n",
    "dataset = Dataset.from_dict(\n",
    "    {\n",
    "        \"input_ids\": raw_data[0],\n",
    "        \"last_token_indices\": raw_data[1],\n",
    "        \"labels\": raw_data[2],\n",
    "    }\n",
    ").with_format(\"torch\")\n",
    "\n",
    "print(f\"Length of dataset: {len(dataset)}\")\n",
    "\n",
    "dataloader = DataLoader(dataset, batch_size=batch_size)"
   ]
  },
  {
   "cell_type": "markdown",
   "metadata": {},
   "source": [
    "## Loading Circuits"
   ]
  },
  {
   "cell_type": "code",
   "execution_count": 4,
   "metadata": {},
   "outputs": [],
   "source": [
    "with open(\"./results/circuits/llama_circuit.json\", \"r\") as f:\n",
    "    llama_circuit = json.load(f)\n",
    "\n",
    "with open(\"./results/circuits/goat_circuit.json\", \"r\") as f:\n",
    "    goat_circuit = json.load(f)\n",
    "\n",
    "with open(\"./results/circuits/float_circuit.json\", \"r\") as f:\n",
    "    float_circuit = json.load(f)"
   ]
  },
  {
   "cell_type": "code",
   "execution_count": 5,
   "metadata": {},
   "outputs": [
    {
     "name": "stdout",
     "output_type": "stream",
     "text": [
      "Llama Circuit\n",
      "Value Fetcher Heads: 40\n",
      "Position Transmitter Heads: 7\n",
      "Position Detector Heads: 20\n",
      "Structure Reader Heads: 5\n",
      "Total Heads: 72\n"
     ]
    }
   ],
   "source": [
    "print(\"Llama Circuit\")\n",
    "print(f\"Value Fetcher Heads: {len(llama_circuit['value_fetcher'])}\")\n",
    "print(f\"Position Transmitter Heads: {len(llama_circuit['pos_transmitter'])}\")\n",
    "print(f\"Position Detector Heads: {len(llama_circuit['pos_detector'])}\")\n",
    "print(f\"Structure Reader Heads: {len(llama_circuit['struct_reader'])}\")\n",
    "print(f\"Total Heads: {len(llama_circuit['value_fetcher']) + len(llama_circuit['pos_transmitter']) + len(llama_circuit['pos_detector']) + len(llama_circuit['struct_reader'])}\")"
   ]
  },
  {
   "cell_type": "code",
   "execution_count": 6,
   "metadata": {},
   "outputs": [
    {
     "name": "stdout",
     "output_type": "stream",
     "text": [
      "GOAT CIRCUIT\n",
      "Value Fetcher Heads: 68\n",
      "Position Transmitter Heads: 28\n",
      "Position Detector Heads: 40\n",
      "Structure Reader Heads: 39\n",
      "Total Heads: 175\n"
     ]
    }
   ],
   "source": [
    "print(\"GOAT CIRCUIT\")\n",
    "print(f\"Value Fetcher Heads: {len(goat_circuit['value_fetcher'])}\")\n",
    "print(f\"Position Transmitter Heads: {len(goat_circuit['pos_transmitter'])}\")\n",
    "print(f\"Position Detector Heads: {len(goat_circuit['pos_detector'])}\")\n",
    "print(f\"Structure Reader Heads: {len(goat_circuit['struct_reader'])}\")\n",
    "print(f\"Total Heads: {len(goat_circuit['value_fetcher']) + len(goat_circuit['pos_transmitter']) + len(goat_circuit['pos_detector']) + len(goat_circuit['struct_reader'])}\")"
   ]
  },
  {
   "cell_type": "code",
   "execution_count": 7,
   "metadata": {},
   "outputs": [
    {
     "name": "stdout",
     "output_type": "stream",
     "text": [
      "FLoat CIRCUIT\n",
      "Value Fetcher Heads: 68\n",
      "Position Transmitter Heads: 29\n",
      "Position Detector Heads: 40\n",
      "Structure Reader Heads: 38\n",
      "Total Heads: 175\n"
     ]
    }
   ],
   "source": [
    "print(\"FLoat CIRCUIT\")\n",
    "print(f\"Value Fetcher Heads: {len(float_circuit['value_fetcher'])}\")\n",
    "print(f\"Position Transmitter Heads: {len(float_circuit['pos_transmitter'])}\")\n",
    "print(f\"Position Detector Heads: {len(float_circuit['pos_detector'])}\")\n",
    "print(f\"Structure Reader Heads: {len(float_circuit['struct_reader'])}\")\n",
    "print(\n",
    "    f\"Total Heads: {len(float_circuit['value_fetcher']) + len(float_circuit['pos_transmitter']) + len(float_circuit['pos_detector']) + len(float_circuit['struct_reader'])}\"\n",
    ")"
   ]
  },
  {
   "cell_type": "code",
   "execution_count": 8,
   "metadata": {},
   "outputs": [],
   "source": [
    "value_fetcher = float_circuit['value_fetcher']\n",
    "pos_transmitter = float_circuit['pos_transmitter']\n",
    "pos_detector = float_circuit['pos_detector']\n",
    "struct_reader = float_circuit['struct_reader']\n",
    "\n",
    "circuit_components = get_final_circuit(model, float_circuit)"
   ]
  },
  {
   "cell_type": "code",
   "execution_count": 9,
   "metadata": {},
   "outputs": [],
   "source": [
    "if model.config.architectures[0] == \"LlamaForCausalLM\":\n",
    "    modules = [f\"model.layers.{layer}.self_attn.o_proj\" for layer in range(32)]\n",
    "else:\n",
    "    modules = [f\"base_model.model.model.layers.{layer}.self_attn.o_proj\" for layer in range(32)]"
   ]
  },
  {
   "cell_type": "code",
   "execution_count": 10,
   "metadata": {},
   "outputs": [
    {
     "name": "stdout",
     "output_type": "stream",
     "text": [
      "Computing mean activations...\n"
     ]
    },
    {
     "name": "stderr",
     "output_type": "stream",
     "text": [
      "  0%|          | 0/10 [00:00<?, ?it/s]100%|██████████| 10/10 [00:21<00:00,  2.15s/it]\n"
     ]
    }
   ],
   "source": [
    "mean_activations, modules = get_mean_activations(\n",
    "    model, tokenizer, data_file, num_samples=500, batch_size=50\n",
    ")"
   ]
  },
  {
   "cell_type": "markdown",
   "metadata": {},
   "source": [
    "## Random Sampling Method"
   ]
  },
  {
   "cell_type": "code",
   "execution_count": 11,
   "metadata": {},
   "outputs": [],
   "source": [
    "# dictionary for the full model\n",
    "full_model = {0:{}, 2:{}, -1:{}, -2:{}}\n",
    "for pos in full_model:\n",
    "    for layer in range(model.config.num_attention_heads):\n",
    "        if model.config.architectures[0] == \"LlamaForCausalLM\":\n",
    "            full_layer = f\"model.layers.{layer}.self_attn.o_proj\"\n",
    "        else:\n",
    "            full_layer = f\"base_model.model.model.layers.{layer}.self_attn.o_proj\"\n",
    "        full_model[pos][full_layer] = list(range(model.config.num_attention_heads))"
   ]
  },
  {
   "cell_type": "code",
   "execution_count": 12,
   "metadata": {},
   "outputs": [],
   "source": [
    "all_heads = []\n",
    "all_heads += [ copy.deepcopy(x) + [0] for x in value_fetcher]\n",
    "all_heads += [ copy.deepcopy(x) + [0] for x in pos_transmitter]\n",
    "all_heads += [ copy.deepcopy(x) + [2] for x in pos_detector]\n",
    "all_heads += [ copy.deepcopy(x) + [-1] for x in struct_reader]"
   ]
  },
  {
   "cell_type": "code",
   "execution_count": 13,
   "metadata": {},
   "outputs": [
    {
     "name": "stderr",
     "output_type": "stream",
     "text": [
      "100%|██████████| 10/10 [00:43<00:00,  4.32s/it]\n",
      "100%|██████████| 10/10 [00:24<00:00,  2.47s/it]\n"
     ]
    },
    {
     "name": "stdout",
     "output_type": "stream",
     "text": [
      "Iteration 0: Circuit Acc: 0.04, Model Acc: 0.18\n",
      "\n"
     ]
    },
    {
     "name": "stderr",
     "output_type": "stream",
     "text": [
      "100%|██████████| 10/10 [00:44<00:00,  4.40s/it]\n",
      "100%|██████████| 10/10 [00:24<00:00,  2.49s/it]\n"
     ]
    },
    {
     "name": "stdout",
     "output_type": "stream",
     "text": [
      "Iteration 1: Circuit Acc: 0.23, Model Acc: 0.29\n",
      "\n"
     ]
    },
    {
     "name": "stderr",
     "output_type": "stream",
     "text": [
      "100%|██████████| 10/10 [00:44<00:00,  4.42s/it]\n",
      "100%|██████████| 10/10 [00:24<00:00,  2.50s/it]\n"
     ]
    },
    {
     "name": "stdout",
     "output_type": "stream",
     "text": [
      "Iteration 2: Circuit Acc: 0.05, Model Acc: 0.14\n",
      "\n"
     ]
    },
    {
     "name": "stderr",
     "output_type": "stream",
     "text": [
      "100%|██████████| 10/10 [00:44<00:00,  4.46s/it]\n",
      "100%|██████████| 10/10 [00:25<00:00,  2.50s/it]\n"
     ]
    },
    {
     "name": "stdout",
     "output_type": "stream",
     "text": [
      "Iteration 3: Circuit Acc: 0.07, Model Acc: 0.16\n",
      "\n"
     ]
    },
    {
     "name": "stderr",
     "output_type": "stream",
     "text": [
      "100%|██████████| 10/10 [00:44<00:00,  4.46s/it]\n",
      "100%|██████████| 10/10 [00:25<00:00,  2.51s/it]\n"
     ]
    },
    {
     "name": "stdout",
     "output_type": "stream",
     "text": [
      "Iteration 4: Circuit Acc: 0.22, Model Acc: 0.2\n",
      "\n"
     ]
    },
    {
     "name": "stderr",
     "output_type": "stream",
     "text": [
      "100%|██████████| 10/10 [00:44<00:00,  4.48s/it]\n",
      "100%|██████████| 10/10 [00:25<00:00,  2.51s/it]\n"
     ]
    },
    {
     "name": "stdout",
     "output_type": "stream",
     "text": [
      "Iteration 5: Circuit Acc: 0.28, Model Acc: 0.29\n",
      "\n"
     ]
    },
    {
     "name": "stderr",
     "output_type": "stream",
     "text": [
      "100%|██████████| 10/10 [00:44<00:00,  4.46s/it]\n",
      "100%|██████████| 10/10 [00:25<00:00,  2.51s/it]\n"
     ]
    },
    {
     "name": "stdout",
     "output_type": "stream",
     "text": [
      "Iteration 6: Circuit Acc: 0.05, Model Acc: 0.19\n",
      "\n"
     ]
    },
    {
     "name": "stderr",
     "output_type": "stream",
     "text": [
      "100%|██████████| 10/10 [00:44<00:00,  4.44s/it]\n",
      "100%|██████████| 10/10 [00:25<00:00,  2.52s/it]\n"
     ]
    },
    {
     "name": "stdout",
     "output_type": "stream",
     "text": [
      "Iteration 7: Circuit Acc: 0.07, Model Acc: 0.2\n",
      "\n"
     ]
    },
    {
     "name": "stderr",
     "output_type": "stream",
     "text": [
      "100%|██████████| 10/10 [00:44<00:00,  4.43s/it]\n",
      "100%|██████████| 10/10 [00:25<00:00,  2.51s/it]\n"
     ]
    },
    {
     "name": "stdout",
     "output_type": "stream",
     "text": [
      "Iteration 8: Circuit Acc: 0.09, Model Acc: 0.16\n",
      "\n"
     ]
    },
    {
     "name": "stderr",
     "output_type": "stream",
     "text": [
      "100%|██████████| 10/10 [00:44<00:00,  4.43s/it]\n",
      "100%|██████████| 10/10 [00:25<00:00,  2.51s/it]\n"
     ]
    },
    {
     "name": "stdout",
     "output_type": "stream",
     "text": [
      "Iteration 9: Circuit Acc: 0.4, Model Acc: 0.42\n",
      "\n"
     ]
    },
    {
     "name": "stderr",
     "output_type": "stream",
     "text": [
      "100%|██████████| 10/10 [00:44<00:00,  4.47s/it]\n",
      "100%|██████████| 10/10 [00:25<00:00,  2.52s/it]\n"
     ]
    },
    {
     "name": "stdout",
     "output_type": "stream",
     "text": [
      "Iteration 10: Circuit Acc: 0.02, Model Acc: 0.17\n",
      "\n"
     ]
    },
    {
     "name": "stderr",
     "output_type": "stream",
     "text": [
      "100%|██████████| 10/10 [00:44<00:00,  4.48s/it]\n",
      "100%|██████████| 10/10 [00:25<00:00,  2.50s/it]\n"
     ]
    },
    {
     "name": "stdout",
     "output_type": "stream",
     "text": [
      "Iteration 11: Circuit Acc: 0.16, Model Acc: 0.27\n",
      "\n"
     ]
    },
    {
     "name": "stderr",
     "output_type": "stream",
     "text": [
      "100%|██████████| 10/10 [00:44<00:00,  4.49s/it]\n",
      "100%|██████████| 10/10 [00:25<00:00,  2.51s/it]\n"
     ]
    },
    {
     "name": "stdout",
     "output_type": "stream",
     "text": [
      "Iteration 12: Circuit Acc: 0.16, Model Acc: 0.21\n",
      "\n"
     ]
    },
    {
     "name": "stderr",
     "output_type": "stream",
     "text": [
      "100%|██████████| 10/10 [00:44<00:00,  4.49s/it]\n",
      "100%|██████████| 10/10 [00:25<00:00,  2.52s/it]\n"
     ]
    },
    {
     "name": "stdout",
     "output_type": "stream",
     "text": [
      "Iteration 13: Circuit Acc: 0.06, Model Acc: 0.17\n",
      "\n"
     ]
    },
    {
     "name": "stderr",
     "output_type": "stream",
     "text": [
      "100%|██████████| 10/10 [00:44<00:00,  4.50s/it]\n",
      "100%|██████████| 10/10 [00:25<00:00,  2.51s/it]\n"
     ]
    },
    {
     "name": "stdout",
     "output_type": "stream",
     "text": [
      "Iteration 14: Circuit Acc: 0.07, Model Acc: 0.13\n",
      "\n"
     ]
    },
    {
     "name": "stderr",
     "output_type": "stream",
     "text": [
      "100%|██████████| 10/10 [00:44<00:00,  4.49s/it]\n",
      "100%|██████████| 10/10 [00:25<00:00,  2.51s/it]\n"
     ]
    },
    {
     "name": "stdout",
     "output_type": "stream",
     "text": [
      "Iteration 15: Circuit Acc: 0.03, Model Acc: 0.16\n",
      "\n"
     ]
    },
    {
     "name": "stderr",
     "output_type": "stream",
     "text": [
      "100%|██████████| 10/10 [00:44<00:00,  4.49s/it]\n",
      "100%|██████████| 10/10 [00:25<00:00,  2.52s/it]\n"
     ]
    },
    {
     "name": "stdout",
     "output_type": "stream",
     "text": [
      "Iteration 16: Circuit Acc: 0.21, Model Acc: 0.23\n",
      "\n"
     ]
    },
    {
     "name": "stderr",
     "output_type": "stream",
     "text": [
      "100%|██████████| 10/10 [00:45<00:00,  4.50s/it]\n",
      "100%|██████████| 10/10 [00:25<00:00,  2.51s/it]\n"
     ]
    },
    {
     "name": "stdout",
     "output_type": "stream",
     "text": [
      "Iteration 17: Circuit Acc: 0.03, Model Acc: 0.17\n",
      "\n"
     ]
    },
    {
     "name": "stderr",
     "output_type": "stream",
     "text": [
      "100%|██████████| 10/10 [00:44<00:00,  4.49s/it]\n",
      "100%|██████████| 10/10 [00:25<00:00,  2.51s/it]\n"
     ]
    },
    {
     "name": "stdout",
     "output_type": "stream",
     "text": [
      "Iteration 18: Circuit Acc: 0.11, Model Acc: 0.19\n",
      "\n"
     ]
    },
    {
     "name": "stderr",
     "output_type": "stream",
     "text": [
      "100%|██████████| 10/10 [00:44<00:00,  4.48s/it]\n",
      "100%|██████████| 10/10 [00:25<00:00,  2.52s/it]"
     ]
    },
    {
     "name": "stdout",
     "output_type": "stream",
     "text": [
      "Iteration 19: Circuit Acc: 0.03, Model Acc: 0.12\n",
      "\n"
     ]
    },
    {
     "name": "stderr",
     "output_type": "stream",
     "text": [
      "\n"
     ]
    }
   ],
   "source": [
    "num_iter = 20\n",
    "\n",
    "M_acc_random = []\n",
    "C_acc_random = []\n",
    "\n",
    "for idx in range(num_iter):\n",
    "    #Make a copy of both dictionaries\n",
    "    circuit_components_copy = copy.deepcopy(circuit_components)\n",
    "    full_model_copy = copy.deepcopy(full_model)\n",
    "\n",
    "    #Uniformly sample heads \n",
    "    rand_k = np.random.randint(2, size=len(all_heads))\n",
    "\n",
    "    #remove heads\n",
    "    for inx, j in enumerate(rand_k):\n",
    "        if j == 0:\n",
    "            head_index = all_heads[inx][1]\n",
    "            layer = all_heads[inx][0]\n",
    "            pos = all_heads[inx][2]\n",
    "            if model.config.architectures[0] == \"LlamaForCausalLM\":\n",
    "                full_layer =  f\"model.layers.{layer}.self_attn.o_proj\"\n",
    "            else:\n",
    "                full_layer =  f\"base_model.model.model.layers.{layer}.self_attn.o_proj\"\n",
    "\n",
    "            #remove head from the circiut\n",
    "            circuit_components_copy[pos][full_layer].remove(head_index)\n",
    "            #remove head from the model\n",
    "            full_model_copy[pos][full_layer].remove(head_index)\n",
    "\n",
    "    #eval circuit/model\n",
    "    circuit_acc = eval_circuit_performance(model, dataloader, modules, circuit_components_copy, mean_activations)\n",
    "    model_acc = eval_circuit_performance(model, dataloader, modules, full_model_copy, mean_activations, ablate_non_vital_pos=False)\n",
    "\n",
    "    C_acc_random.append(circuit_acc)\n",
    "    M_acc_random.append(model_acc)\n",
    "    print(f\"Iteration {idx}: Circuit Acc: {circuit_acc}, Model Acc: {model_acc}\\n\")"
   ]
  },
  {
   "cell_type": "code",
   "execution_count": 14,
   "metadata": {},
   "outputs": [
    {
     "name": "stdout",
     "output_type": "stream",
     "text": [
      "Model: 0.2, 0.07\n",
      "Circuit: 0.12, 0.1\n",
      "Compeleteness scores: 0.09, 0.04\n"
     ]
    }
   ],
   "source": [
    "C_acc_random = np.array(C_acc_random)\n",
    "M_acc_random = np.array(M_acc_random)\n",
    "print(f\"Model: {round(np.mean(M_acc_random), 2)}, {round(np.std(M_acc_random), 2)}\")\n",
    "print(f\"Circuit: {round(np.mean(C_acc_random), 2)}, {round(np.std(C_acc_random), 2)}\")\n",
    "print(f\"Compeleteness scores: {round(np.mean(np.abs(M_acc_random - C_acc_random)), 2)}, {round(np.std(np.abs(M_acc_random - C_acc_random)), 2)}\")"
   ]
  },
  {
   "cell_type": "markdown",
   "metadata": {},
   "source": [
    "## Entire Class Method"
   ]
  },
  {
   "cell_type": "code",
   "execution_count": 15,
   "metadata": {},
   "outputs": [
    {
     "name": "stdout",
     "output_type": "stream",
     "text": [
      "Value Fetcher:\n"
     ]
    },
    {
     "name": "stderr",
     "output_type": "stream",
     "text": [
      "100%|██████████| 10/10 [00:44<00:00,  4.45s/it]\n",
      "100%|██████████| 10/10 [00:24<00:00,  2.49s/it]\n"
     ]
    },
    {
     "name": "stdout",
     "output_type": "stream",
     "text": [
      "0.08 0.51 incompleteness score 0.43 \n",
      "\n",
      "Position Transmitter:\n"
     ]
    },
    {
     "name": "stderr",
     "output_type": "stream",
     "text": [
      "100%|██████████| 10/10 [00:44<00:00,  4.47s/it]\n",
      "100%|██████████| 10/10 [00:24<00:00,  2.48s/it]\n"
     ]
    },
    {
     "name": "stdout",
     "output_type": "stream",
     "text": [
      "0.11 0.15 incompleteness score 0.04 \n",
      "\n",
      "Position Detector:\n"
     ]
    },
    {
     "name": "stderr",
     "output_type": "stream",
     "text": [
      "100%|██████████| 10/10 [00:44<00:00,  4.48s/it]\n",
      "100%|██████████| 10/10 [00:24<00:00,  2.50s/it]\n"
     ]
    },
    {
     "name": "stdout",
     "output_type": "stream",
     "text": [
      "0.07 0.19 incompleteness score 0.12 \n",
      "\n",
      "Structure Reader:\n"
     ]
    },
    {
     "name": "stderr",
     "output_type": "stream",
     "text": [
      "100%|██████████| 10/10 [00:44<00:00,  4.45s/it]\n",
      "100%|██████████| 10/10 [00:24<00:00,  2.49s/it]"
     ]
    },
    {
     "name": "stdout",
     "output_type": "stream",
     "text": [
      "0.57 0.68 incompleteness score 0.11 \n",
      "\n"
     ]
    },
    {
     "name": "stderr",
     "output_type": "stream",
     "text": [
      "\n"
     ]
    }
   ],
   "source": [
    "mean_score = 0\n",
    "M_acc_groups = []\n",
    "C_acc_groups = []\n",
    "\n",
    "def incompleteness_score(heads, pos):\n",
    "    circuit_components_copy = copy.deepcopy(circuit_components)\n",
    "    full_model_copy = copy.deepcopy(full_model)\n",
    "    \n",
    "        \n",
    "    for head in heads:\n",
    "        head_index = head[1]\n",
    "        layer = head[0]\n",
    "        if model.config.architectures[0] == \"LlamaForCausalLM\":\n",
    "            full_layer =  f\"model.layers.{layer}.self_attn.o_proj\"\n",
    "        else:\n",
    "            full_layer =  f\"base_model.model.model.layers.{layer}.self_attn.o_proj\"\n",
    "    \n",
    "        #remove head from the circiut\n",
    "        circuit_components_copy[pos][full_layer].remove(head_index)\n",
    "        #remove head from the model\n",
    "        full_model_copy[pos][full_layer].remove(head_index)\n",
    "            \n",
    "    res_circuit = eval_circuit_performance(model, dataloader, modules, circuit_components_copy, mean_activations)\n",
    "    res_model = eval_circuit_performance(model, dataloader, modules, full_model_copy, mean_activations, ablate_non_vital_pos=False)\n",
    "    \n",
    "    print(res_circuit, res_model,\"incompleteness score\", round(abs(res_circuit - res_model), 2), \"\\n\")\n",
    "    return abs(res_circuit - res_model), res_circuit ,res_model\n",
    "\n",
    "\n",
    "print(\"Value Fetcher:\")\n",
    "score, res_circuit, res_model = incompleteness_score(value_fetcher, 0)\n",
    "M_acc_groups.append(res_model)\n",
    "C_acc_groups.append(res_circuit)\n",
    "mean_score += score/4\n",
    "\n",
    "print(\"Position Transmitter:\")\n",
    "score, res_circuit, res_model = incompleteness_score(pos_transmitter, 0)\n",
    "M_acc_groups.append(res_model)\n",
    "C_acc_groups.append(res_circuit)\n",
    "mean_score += score/4\n",
    "\n",
    "print(\"Position Detector:\")\n",
    "score, res_circuit, res_model = incompleteness_score(pos_detector, 2)\n",
    "M_acc_groups.append(res_model)\n",
    "C_acc_groups.append(res_circuit)\n",
    "mean_score += score/4\n",
    "\n",
    "print(\"Structure Reader:\")\n",
    "score, res_circuit, res_model = incompleteness_score(struct_reader, -1)\n",
    "M_acc_groups.append(res_model)\n",
    "C_acc_groups.append(res_circuit)\n",
    "mean_score += score/4"
   ]
  },
  {
   "cell_type": "markdown",
   "metadata": {},
   "source": [
    "## Visualization"
   ]
  },
  {
   "cell_type": "code",
   "execution_count": 18,
   "metadata": {},
   "outputs": [
    {
     "data": {
      "image/png": "[encoded data removed]",
      "text/plain": [
       "<Figure size 640x480 with 1 Axes>"
      ]
     },
     "metadata": {},
     "output_type": "display_data"
    }
   ],
   "source": [
    "Random_C = C_acc_random\n",
    "Random_M = M_acc_random\n",
    "groups_C = C_acc_groups\n",
    "group_M = M_acc_groups\n",
    "\n",
    "plt.rcParams[\"font.family\"] = \"Times New Roman\"\n",
    "plt.rcParams[\"font.size\"] = 16\n",
    "fig, ax = plt.subplots()\n",
    "\n",
    "ax.scatter(Random_C, Random_M, c=len(Random_C) * [\"r\"], label=\"Random set\")\n",
    "ax.scatter(groups_C[0], group_M[0], c=[\"g\"], label=\"Group A\", marker=\"D\")\n",
    "ax.scatter(groups_C[1], group_M[1], c=[\"y\"], label=\"Group B\", marker=\"D\")\n",
    "ax.scatter(groups_C[2], group_M[2], c=[\"m\"], label=\"Group C\", marker=\"D\")\n",
    "ax.scatter(groups_C[3], group_M[3], c=[\"b\"], label=\"Group D\", marker=\"D\")\n",
    "\n",
    "\n",
    "ax.set_ylim(0, 1)\n",
    "ax.set_xlim(0, 1)\n",
    "ax.axline((0, 0), slope=1, color=\"gainsboro\", ls=\"--\", label=\"y = x\")\n",
    "\n",
    "ax.set_ylabel(\"F(M\\K)\")\n",
    "ax.set_xlabel(\"F(C\\K)\")\n",
    "ax.set_title(\"FLoat-7B circuit completeness tests\")\n",
    "plt.grid()\n",
    "plt.legend(loc=\"lower right\")\n",
    "\n",
    "# plt.show()\n",
    "plt.savefig(\"./results/figures/float_cir_completeness.pdf\", dpi=300)"
   ]
  },
  {
   "cell_type": "code",
   "execution_count": null,
   "metadata": {},
   "outputs": [],
   "source": []
  }
 ],
 "metadata": {
  "kernelspec": {
   "display_name": "Python 3 (ipykernel)",
   "language": "python",
   "name": "python3"
  },
  "language_info": {
   "codemirror_mode": {
    "name": "ipython",
    "version": 3
   },
   "file_extension": ".py",
   "mimetype": "text/x-python",
   "name": "python",
   "nbconvert_exporter": "python",
   "pygments_lexer": "ipython3",
   "version": "3.10.4"
  }
 },
 "nbformat": 4,
 "nbformat_minor": 2
}
