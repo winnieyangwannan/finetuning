{
 "cells": [
  {
   "cell_type": "code",
   "execution_count": 1,
   "metadata": {},
   "outputs": [
    {
     "ename": "ImportError",
     "evalue": "cannot import name 'get_ctx' from 'torch.library' (C:\\Users\\buzlab\\.conda\\envs\\finetuning\\lib\\site-packages\\torch\\library.py)",
     "output_type": "error",
     "traceback": [
      "\u001b[1;31m---------------------------------------------------------------------------\u001b[0m",
      "\u001b[1;31mImportError\u001b[0m                               Traceback (most recent call last)",
      "Cell \u001b[1;32mIn[1], line 18\u001b[0m\n\u001b[0;32m     15\u001b[0m sys\u001b[38;5;241m.\u001b[39mpath\u001b[38;5;241m.\u001b[39mappend(\u001b[38;5;124m\"\u001b[39m\u001b[38;5;124m../\u001b[39m\u001b[38;5;124m\"\u001b[39m)\n\u001b[0;32m     16\u001b[0m \u001b[38;5;28;01mfrom\u001b[39;00m \u001b[38;5;21;01mdata\u001b[39;00m\u001b[38;5;21;01m.\u001b[39;00m\u001b[38;5;21;01mdata_utils\u001b[39;00m \u001b[38;5;28;01mimport\u001b[39;00m \u001b[38;5;241m*\u001b[39m\n\u001b[1;32m---> 18\u001b[0m \u001b[38;5;28;01mfrom\u001b[39;00m \u001b[38;5;21;01mpp_utils\u001b[39;00m \u001b[38;5;28;01mimport\u001b[39;00m (\n\u001b[0;32m     19\u001b[0m     compute_topk_components,\n\u001b[0;32m     20\u001b[0m     eval_circuit_performance,\n\u001b[0;32m     21\u001b[0m     get_mean_activations,\n\u001b[0;32m     22\u001b[0m     get_random_circuit,\n\u001b[0;32m     23\u001b[0m )\n\u001b[0;32m     24\u001b[0m \u001b[38;5;28;01mimport\u001b[39;00m \u001b[38;5;21;01mwarnings\u001b[39;00m\n\u001b[0;32m     25\u001b[0m warnings\u001b[38;5;241m.\u001b[39mfilterwarnings(\u001b[38;5;124m\"\u001b[39m\u001b[38;5;124mignore\u001b[39m\u001b[38;5;124m\"\u001b[39m)\n",
      "File \u001b[1;32mD:\\Code\\finetuning\\experiment_1\\pp_utils.py:14\u001b[0m\n\u001b[0;32m      9\u001b[0m \u001b[38;5;28;01mimport\u001b[39;00m \u001b[38;5;21;01mtorch\u001b[39;00m\n\u001b[0;32m     10\u001b[0m \u001b[38;5;28;01mfrom\u001b[39;00m \u001b[38;5;21;01mtransformers\u001b[39;00m \u001b[38;5;28;01mimport\u001b[39;00m (\n\u001b[0;32m     11\u001b[0m     LlamaForCausalLM,\n\u001b[0;32m     12\u001b[0m     LlamaTokenizer,\n\u001b[0;32m     13\u001b[0m )\n\u001b[1;32m---> 14\u001b[0m \u001b[38;5;28;01mfrom\u001b[39;00m \u001b[38;5;21;01mbaukit\u001b[39;00m \u001b[38;5;28;01mimport\u001b[39;00m TraceDict, nethook\n\u001b[0;32m     15\u001b[0m \u001b[38;5;28;01mfrom\u001b[39;00m \u001b[38;5;21;01meinops\u001b[39;00m \u001b[38;5;28;01mimport\u001b[39;00m rearrange, einsum\n\u001b[0;32m     16\u001b[0m \u001b[38;5;28;01mfrom\u001b[39;00m \u001b[38;5;21;01mpeft\u001b[39;00m \u001b[38;5;28;01mimport\u001b[39;00m PeftModel\n",
      "File \u001b[1;32m~\\.conda\\envs\\finetuning\\lib\\site-packages\\baukit\\__init__.py:12\u001b[0m\n\u001b[0;32m     10\u001b[0m \u001b[38;5;28;01mfrom\u001b[39;00m \u001b[38;5;21;01m.\u001b[39;00m\u001b[38;5;21;01mnethook\u001b[39;00m \u001b[38;5;28;01mimport\u001b[39;00m subsequence, get_module, get_parameter, replace_module\n\u001b[0;32m     11\u001b[0m \u001b[38;5;28;01mfrom\u001b[39;00m \u001b[38;5;21;01m.\u001b[39;00m\u001b[38;5;21;01mpidfile\u001b[39;00m \u001b[38;5;28;01mimport\u001b[39;00m reserve_dir\n\u001b[1;32m---> 12\u001b[0m \u001b[38;5;28;01mfrom\u001b[39;00m \u001b[38;5;21;01m.\u001b[39;00m\u001b[38;5;21;01mparallelfolder\u001b[39;00m \u001b[38;5;28;01mimport\u001b[39;00m ImageFolderSet\n\u001b[0;32m     13\u001b[0m \u001b[38;5;28;01mfrom\u001b[39;00m \u001b[38;5;21;01m.\u001b[39;00m \u001b[38;5;28;01mimport\u001b[39;00m renormalize\n\u001b[0;32m     14\u001b[0m \u001b[38;5;28;01mfrom\u001b[39;00m \u001b[38;5;21;01m.\u001b[39;00m\u001b[38;5;21;01mrunningstats\u001b[39;00m \u001b[38;5;28;01mimport\u001b[39;00m Stat, Mean, Variance, Covariance, Bincount\n",
      "File \u001b[1;32m~\\.conda\\envs\\finetuning\\lib\\site-packages\\baukit\\parallelfolder.py:15\u001b[0m\n\u001b[0;32m     13\u001b[0m \u001b[38;5;28;01mimport\u001b[39;00m \u001b[38;5;21;01mcopy\u001b[39;00m\n\u001b[0;32m     14\u001b[0m \u001b[38;5;28;01mimport\u001b[39;00m \u001b[38;5;21;01mtorch\u001b[39;00m\u001b[38;5;21;01m.\u001b[39;00m\u001b[38;5;21;01mutils\u001b[39;00m\u001b[38;5;21;01m.\u001b[39;00m\u001b[38;5;21;01mdata\u001b[39;00m \u001b[38;5;28;01mas\u001b[39;00m \u001b[38;5;21;01mdata\u001b[39;00m\n\u001b[1;32m---> 15\u001b[0m \u001b[38;5;28;01mfrom\u001b[39;00m \u001b[38;5;21;01mtorchvision\u001b[39;00m\u001b[38;5;21;01m.\u001b[39;00m\u001b[38;5;21;01mdatasets\u001b[39;00m\u001b[38;5;21;01m.\u001b[39;00m\u001b[38;5;21;01mfolder\u001b[39;00m \u001b[38;5;28;01mimport\u001b[39;00m default_loader \u001b[38;5;28;01mas\u001b[39;00m tv_default_loader\n\u001b[0;32m     16\u001b[0m \u001b[38;5;28;01mfrom\u001b[39;00m \u001b[38;5;21;01mPIL\u001b[39;00m \u001b[38;5;28;01mimport\u001b[39;00m Image\n\u001b[0;32m     17\u001b[0m \u001b[38;5;28;01mfrom\u001b[39;00m \u001b[38;5;21;01mcollections\u001b[39;00m \u001b[38;5;28;01mimport\u001b[39;00m OrderedDict\n",
      "File \u001b[1;32m~\\.conda\\envs\\finetuning\\lib\\site-packages\\torchvision\\__init__.py:6\u001b[0m\n\u001b[0;32m      3\u001b[0m \u001b[38;5;28;01mfrom\u001b[39;00m \u001b[38;5;21;01mmodulefinder\u001b[39;00m \u001b[38;5;28;01mimport\u001b[39;00m Module\n\u001b[0;32m      5\u001b[0m \u001b[38;5;28;01mimport\u001b[39;00m \u001b[38;5;21;01mtorch\u001b[39;00m\n\u001b[1;32m----> 6\u001b[0m \u001b[38;5;28;01mfrom\u001b[39;00m \u001b[38;5;21;01mtorchvision\u001b[39;00m \u001b[38;5;28;01mimport\u001b[39;00m _meta_registrations, datasets, io, models, ops, transforms, utils\n\u001b[0;32m      8\u001b[0m \u001b[38;5;28;01mfrom\u001b[39;00m \u001b[38;5;21;01m.\u001b[39;00m\u001b[38;5;21;01mextension\u001b[39;00m \u001b[38;5;28;01mimport\u001b[39;00m _HAS_OPS\n\u001b[0;32m     10\u001b[0m \u001b[38;5;28;01mtry\u001b[39;00m:\n",
      "File \u001b[1;32m~\\.conda\\envs\\finetuning\\lib\\site-packages\\torchvision\\_meta_registrations.py:4\u001b[0m\n\u001b[0;32m      1\u001b[0m \u001b[38;5;28;01mimport\u001b[39;00m \u001b[38;5;21;01mfunctools\u001b[39;00m\n\u001b[0;32m      3\u001b[0m \u001b[38;5;28;01mimport\u001b[39;00m \u001b[38;5;21;01mtorch\u001b[39;00m\n\u001b[1;32m----> 4\u001b[0m \u001b[38;5;28;01mimport\u001b[39;00m \u001b[38;5;21;01mtorch\u001b[39;00m\u001b[38;5;21;01m.\u001b[39;00m\u001b[38;5;21;01m_custom_ops\u001b[39;00m\n\u001b[0;32m      5\u001b[0m \u001b[38;5;28;01mimport\u001b[39;00m \u001b[38;5;21;01mtorch\u001b[39;00m\u001b[38;5;21;01m.\u001b[39;00m\u001b[38;5;21;01mlibrary\u001b[39;00m\n\u001b[0;32m      7\u001b[0m \u001b[38;5;66;03m# Ensure that torch.ops.torchvision is visible\u001b[39;00m\n",
      "File \u001b[1;32m~\\.conda\\envs\\finetuning\\lib\\site-packages\\torch\\_custom_ops.py:3\u001b[0m\n\u001b[0;32m      1\u001b[0m \u001b[38;5;28;01mimport\u001b[39;00m \u001b[38;5;21;01minspect\u001b[39;00m\n\u001b[1;32m----> 3\u001b[0m \u001b[38;5;28;01mfrom\u001b[39;00m \u001b[38;5;21;01mtorch\u001b[39;00m\u001b[38;5;21;01m.\u001b[39;00m\u001b[38;5;21;01m_custom_op\u001b[39;00m\u001b[38;5;21;01m.\u001b[39;00m\u001b[38;5;21;01mimpl\u001b[39;00m \u001b[38;5;28;01mimport\u001b[39;00m (\n\u001b[0;32m      4\u001b[0m     _custom_op_with_schema,\n\u001b[0;32m      5\u001b[0m     _find_custom_op,\n\u001b[0;32m      6\u001b[0m     infer_schema,\n\u001b[0;32m      7\u001b[0m     parse_qualname,\n\u001b[0;32m      8\u001b[0m     validate_namespace,\n\u001b[0;32m      9\u001b[0m )\n\u001b[0;32m     10\u001b[0m \u001b[38;5;28;01mfrom\u001b[39;00m \u001b[38;5;21;01mtorch\u001b[39;00m\u001b[38;5;21;01m.\u001b[39;00m\u001b[38;5;21;01mlibrary\u001b[39;00m \u001b[38;5;28;01mimport\u001b[39;00m get_ctx\n\u001b[0;32m     12\u001b[0m __all__ \u001b[38;5;241m=\u001b[39m [\n\u001b[0;32m     13\u001b[0m     \u001b[38;5;124m\"\u001b[39m\u001b[38;5;124mcustom_op\u001b[39m\u001b[38;5;124m\"\u001b[39m,\n\u001b[0;32m     14\u001b[0m     \u001b[38;5;124m\"\u001b[39m\u001b[38;5;124mimpl\u001b[39m\u001b[38;5;124m\"\u001b[39m,\n\u001b[1;32m   (...)\u001b[0m\n\u001b[0;32m     18\u001b[0m     \u001b[38;5;124m\"\u001b[39m\u001b[38;5;124mimpl_backward\u001b[39m\u001b[38;5;124m\"\u001b[39m,\n\u001b[0;32m     19\u001b[0m ]\n",
      "File \u001b[1;32m~\\.conda\\envs\\finetuning\\lib\\site-packages\\torch\\_custom_op\\impl.py:14\u001b[0m\n\u001b[0;32m     12\u001b[0m \u001b[38;5;28;01mimport\u001b[39;00m \u001b[38;5;21;01mtorch\u001b[39;00m\u001b[38;5;21;01m.\u001b[39;00m\u001b[38;5;21;01mlibrary\u001b[39;00m \u001b[38;5;28;01mas\u001b[39;00m \u001b[38;5;21;01mlibrary\u001b[39;00m\n\u001b[0;32m     13\u001b[0m \u001b[38;5;28;01mfrom\u001b[39;00m \u001b[38;5;21;01mtorch\u001b[39;00m\u001b[38;5;21;01m.\u001b[39;00m\u001b[38;5;21;01m_library\u001b[39;00m\u001b[38;5;21;01m.\u001b[39;00m\u001b[38;5;21;01mabstract_impl\u001b[39;00m \u001b[38;5;28;01mimport\u001b[39;00m AbstractImplCtx\n\u001b[1;32m---> 14\u001b[0m \u001b[38;5;28;01mfrom\u001b[39;00m \u001b[38;5;21;01mtorch\u001b[39;00m\u001b[38;5;21;01m.\u001b[39;00m\u001b[38;5;21;01mlibrary\u001b[39;00m \u001b[38;5;28;01mimport\u001b[39;00m get_ctx\n\u001b[0;32m     16\u001b[0m \u001b[38;5;28;01mfrom\u001b[39;00m \u001b[38;5;21;01m.\u001b[39;00m\u001b[38;5;21;01mautograd\u001b[39;00m \u001b[38;5;28;01mimport\u001b[39;00m autograd_kernel_indirection, construct_autograd_kernel\n\u001b[0;32m     18\u001b[0m \u001b[38;5;124;03m\"\"\"\u001b[39;00m\n\u001b[0;32m     19\u001b[0m \u001b[38;5;124;03mFor a detailed guide on custom ops, please see\u001b[39;00m\n\u001b[0;32m     20\u001b[0m \u001b[38;5;124;03mhttps://docs.google.com/document/d/1aGWtgxV3HppuxQAdddyPrs74_aEntpkYt9MalnCKnhk\u001b[39;00m\n\u001b[0;32m     21\u001b[0m \n\u001b[0;32m     22\u001b[0m \u001b[38;5;124;03mThis file includes pieces of the implementation of our custom operator API.\u001b[39;00m\n\u001b[0;32m     23\u001b[0m \u001b[38;5;124;03m\"\"\"\u001b[39;00m\n",
      "\u001b[1;31mImportError\u001b[0m: cannot import name 'get_ctx' from 'torch.library' (C:\\Users\\buzlab\\.conda\\envs\\finetuning\\lib\\site-packages\\torch\\library.py)"
     ]
    }
   ],
   "source": [
    "import sys\n",
    "import json\n",
    "import numpy as np\n",
    "import torch\n",
    "import matplotlib.pyplot as plt\n",
    "import matplotlib.patches as mpatches\n",
    "from collections import defaultdict\n",
    "from functools import partial\n",
    "from datasets import Dataset\n",
    "from torch.utils.data import DataLoader\n",
    "from transformers import LlamaTokenizer, LlamaForCausalLM\n",
    "from tqdm import tqdm\n",
    "from peft import PeftModel\n",
    "\n",
    "sys.path.append(\"../\")\n",
    "from data.data_utils import *\n",
    "\n",
    "from pp_utils import (\n",
    "    compute_topk_components,\n",
    "    eval_circuit_performance,\n",
    "    get_mean_activations,\n",
    "    get_random_circuit,\n",
    ")\n",
    "import warnings\n",
    "warnings.filterwarnings(\"ignore\")\n",
    "\n",
    "device = torch.device(\"cuda\" if torch.cuda.is_available() else \"cpu\")\n",
    "print(\"Using device:\", device)\n",
    "\n",
    "seed = 5\n",
    "random.seed(seed)\n",
    "np.random.seed(seed)\n",
    "torch.manual_seed(seed)"
   ]
  },
  {
   "cell_type": "markdown",
   "metadata": {},
   "source": [
    "## Loading Evaluation Data"
   ]
  },
  {
   "cell_type": "code",
   "execution_count": 2,
   "metadata": {},
   "outputs": [
    {
     "name": "stderr",
     "output_type": "stream",
     "text": [
      "You are using the default legacy behaviour of the <class 'transformers.models.llama.tokenization_llama.LlamaTokenizer'>. This is expected, and simply means that the `legacy` (previous) behavior will be used so nothing changes for you. If you want to use the new behaviour, set `legacy=False`. This should only be set if you understand what it means, and thouroughly read the reason why this was added as explained in https://github.com/huggingface/transformers/pull/24565\n"
     ]
    }
   ],
   "source": [
    "tokenizer = LlamaTokenizer.from_pretrained(\n",
    "    \"hf-internal-testing/llama-tokenizer\", padding_side=\"right\"\n",
    ")\n",
    "tokenizer.pad_token_id = tokenizer.eos_token_id"
   ]
  },
  {
   "cell_type": "code",
   "execution_count": 3,
   "metadata": {},
   "outputs": [
    {
     "name": "stdout",
     "output_type": "stream",
     "text": [
      "Length of dataset: 500\n"
     ]
    }
   ],
   "source": [
    "data_file = \"../data/dataset.jsonl\"\n",
    "batch_size = 50\n",
    "\n",
    "raw_data = sample_box_data(\n",
    "    tokenizer=tokenizer,\n",
    "    num_samples=500,\n",
    "    data_file=data_file,\n",
    ")\n",
    "\n",
    "dataset = Dataset.from_dict(\n",
    "    {\n",
    "        \"input_ids\": raw_data[0],\n",
    "        \"last_token_indices\": raw_data[1],\n",
    "        \"labels\": raw_data[2],\n",
    "    }\n",
    ").with_format(\"torch\")\n",
    "\n",
    "print(f\"Length of dataset: {len(dataset)}\")\n",
    "\n",
    "dataloader = DataLoader(dataset, batch_size=batch_size)"
   ]
  },
  {
   "cell_type": "markdown",
   "metadata": {},
   "source": [
    "## Loading Circuits"
   ]
  },
  {
   "cell_type": "code",
   "execution_count": 3,
   "metadata": {},
   "outputs": [],
   "source": [
    "with open(\"./results/circuits/llama_circuit.json\", \"r\") as f:\n",
    "    llama_circuit = json.load(f)\n",
    "\n",
    "with open(\"./results/circuits/goat_circuit.json\", \"r\") as f:\n",
    "    goat_circuit = json.load(f)\n",
    "\n",
    "with open(\n",
    "    \"./results/circuits/float_circuit.json\", \"r\") as f:\n",
    "    float_circuit = json.load(f)"
   ]
  },
  {
   "cell_type": "code",
   "execution_count": 4,
   "metadata": {},
   "outputs": [
    {
     "name": "stdout",
     "output_type": "stream",
     "text": [
      "Llama Circuit\n",
      "Value Fetcher Heads: 40\n",
      "Position Transmitter Heads: 7\n",
      "Position Detector Heads: 20\n",
      "Structure Reader Heads: 5\n",
      "Total Heads: 72\n"
     ]
    }
   ],
   "source": [
    "print(\"Llama Circuit\")\n",
    "print(f\"Value Fetcher Heads: {len(llama_circuit['value_fetcher'])}\")\n",
    "print(f\"Position Transmitter Heads: {len(llama_circuit['pos_transmitter'])}\")\n",
    "print(f\"Position Detector Heads: {len(llama_circuit['pos_detector'])}\")\n",
    "print(f\"Structure Reader Heads: {len(llama_circuit['struct_reader'])}\")\n",
    "print(\n",
    "    f\"Total Heads: {len(llama_circuit['value_fetcher']) + len(llama_circuit['pos_transmitter']) + len(llama_circuit['pos_detector']) + len(llama_circuit['struct_reader'])}\"\n",
    ")"
   ]
  },
  {
   "cell_type": "code",
   "execution_count": 5,
   "metadata": {},
   "outputs": [
    {
     "name": "stdout",
     "output_type": "stream",
     "text": [
      "GOAT CIRCUIT\n",
      "Value Fetcher Heads: 68\n",
      "Position Transmitter Heads: 28\n",
      "Position Detector Heads: 40\n",
      "Structure Reader Heads: 39\n",
      "Total Heads: 175\n"
     ]
    }
   ],
   "source": [
    "print(\"GOAT CIRCUIT\")\n",
    "print(f\"Value Fetcher Heads: {len(goat_circuit['value_fetcher'])}\")\n",
    "print(f\"Position Transmitter Heads: {len(goat_circuit['pos_transmitter'])}\")\n",
    "print(f\"Position Detector Heads: {len(goat_circuit['pos_detector'])}\")\n",
    "print(f\"Structure Reader Heads: {len(goat_circuit['struct_reader'])}\")\n",
    "print(\n",
    "    f\"Total Heads: {len(goat_circuit['value_fetcher']) + len(goat_circuit['pos_transmitter']) + len(goat_circuit['pos_detector']) + len(goat_circuit['struct_reader'])}\"\n",
    ")"
   ]
  },
  {
   "cell_type": "code",
   "execution_count": 6,
   "metadata": {},
   "outputs": [
    {
     "name": "stdout",
     "output_type": "stream",
     "text": [
      "Float Circuit\n",
      "Value Fetcher Heads: 68\n",
      "Position Transmitter Heads: 29\n",
      "Position Detector Heads: 40\n",
      "Structure Reader Heads: 38\n",
      "Total Heads: 175\n"
     ]
    }
   ],
   "source": [
    "print(\"Float Circuit\")\n",
    "print(f\"Value Fetcher Heads: {len(float_circuit['value_fetcher'])}\")\n",
    "print(f\"Position Transmitter Heads: {len(float_circuit['pos_transmitter'])}\")\n",
    "print(f\"Position Detector Heads: {len(float_circuit['pos_detector'])}\")\n",
    "print(f\"Structure Reader Heads: {len(float_circuit['struct_reader'])}\")\n",
    "print(\n",
    "    f\"Total Heads: {len(float_circuit['value_fetcher']) + len(float_circuit['pos_transmitter']) + len(float_circuit['pos_detector']) + len(float_circuit['struct_reader'])}\"\n",
    ")"
   ]
  },
  {
   "cell_type": "markdown",
   "metadata": {},
   "source": [
    "## Helper Methods"
   ]
  },
  {
   "cell_type": "code",
   "execution_count": 8,
   "metadata": {},
   "outputs": [],
   "source": [
    "def get_circuit(model, circuit_heads):\n",
    "    circuit_components = {}\n",
    "    circuit_components[0] = defaultdict(list)\n",
    "    circuit_components[2] = defaultdict(list)\n",
    "    circuit_components[-1] = defaultdict(list)\n",
    "\n",
    "    for layer_idx, head in circuit_heads[\"value_fetcher\"]:\n",
    "        if model.config.architectures[0] == \"LlamaForCausalLM\":\n",
    "            layer = f\"model.layers.{layer_idx}.self_attn.o_proj\"\n",
    "        else:\n",
    "            layer = f\"base_model.model.model.layers.{layer_idx}.self_attn.o_proj\"\n",
    "        circuit_components[0][layer].append(head)\n",
    "\n",
    "    for layer_idx, head in circuit_heads[\"pos_transmitter\"]:\n",
    "        if model.config.architectures[0] == \"LlamaForCausalLM\":\n",
    "            layer = f\"model.layers.{layer_idx}.self_attn.o_proj\"\n",
    "        else:\n",
    "            layer = f\"base_model.model.model.layers.{layer_idx}.self_attn.o_proj\"\n",
    "        circuit_components[0][layer].append(head)\n",
    "\n",
    "    for layer_idx, head in circuit_heads[\"pos_detector\"]:\n",
    "        if model.config.architectures[0] == \"LlamaForCausalLM\":\n",
    "            layer = f\"model.layers.{layer_idx}.self_attn.o_proj\"\n",
    "        else:\n",
    "            layer = f\"base_model.model.model.layers.{layer_idx}.self_attn.o_proj\"\n",
    "        circuit_components[2][layer].append(head)\n",
    "\n",
    "    for layer_idx, head in circuit_heads[\"struct_reader\"]:\n",
    "        if model.config.architectures[0] == \"LlamaForCausalLM\":\n",
    "            layer = f\"model.layers.{layer_idx}.self_attn.o_proj\"\n",
    "        else:\n",
    "            layer = f\"base_model.model.model.layers.{layer_idx}.self_attn.o_proj\"\n",
    "        circuit_components[-1][layer].append(head)\n",
    "\n",
    "    return circuit_components"
   ]
  },
  {
   "cell_type": "code",
   "execution_count": 9,
   "metadata": {},
   "outputs": [],
   "source": [
    "def eval_model_performance(model, dataloader):\n",
    "    total_count = 0\n",
    "    correct_count = 0\n",
    "    model.eval()\n",
    "    with torch.no_grad():\n",
    "        for _, output in tqdm(enumerate(tqdm(dataloader))):\n",
    "            for k, v in output.items():\n",
    "                if v is not None and isinstance(v, torch.Tensor):\n",
    "                    output[k] = v.to(model.device)\n",
    "\n",
    "            outputs = model(input_ids=output[\"input_ids\"])\n",
    "\n",
    "            for bi in range(output[\"labels\"].size(0)):\n",
    "                label = output[\"labels\"][bi]\n",
    "                pred = torch.argmax(\n",
    "                    outputs.logits[bi][output[\"last_token_indices\"][bi]]\n",
    "                )\n",
    "\n",
    "                if label == pred:\n",
    "                    correct_count += 1\n",
    "                total_count += 1\n",
    "\n",
    "    del outputs\n",
    "    torch.cuda.empty_cache()\n",
    "\n",
    "    current_acc = round(correct_count / total_count, 2)\n",
    "    return current_acc"
   ]
  },
  {
   "cell_type": "markdown",
   "metadata": {},
   "source": [
    "## Model and Circuit Performance: Llama-7B"
   ]
  },
  {
   "cell_type": "code",
   "execution_count": 10,
   "metadata": {},
   "outputs": [
    {
     "data": {
      "application/vnd.jupyter.widget-view+json": {
       "model_id": "ee040c20d03c415cb019554cdec689fd",
       "version_major": 2,
       "version_minor": 0
      },
      "text/plain": [
       "Loading checkpoint shards:   0%|          | 0/2 [00:00<?, ?it/s]"
      ]
     },
     "metadata": {},
     "output_type": "display_data"
    }
   ],
   "source": [
    "path = \"/home/local_nikhil/Projects/llama_weights/7B\"\n",
    "\n",
    "# Delete model if present in memory\n",
    "if \"model\" in locals():\n",
    "    del model\n",
    "    torch.cuda.empty_cache()\n",
    "\n",
    "model = LlamaForCausalLM.from_pretrained(path).to(device)"
   ]
  },
  {
   "cell_type": "code",
   "execution_count": 11,
   "metadata": {},
   "outputs": [
    {
     "name": "stdout",
     "output_type": "stream",
     "text": [
      "Computing mean activations...\n"
     ]
    },
    {
     "name": "stderr",
     "output_type": "stream",
     "text": [
      "  0%|          | 0/10 [00:00<?, ?it/s]100%|██████████| 10/10 [00:21<00:00,  2.15s/it]\n"
     ]
    }
   ],
   "source": [
    "mean_activations, modules = get_mean_activations(\n",
    "    model, tokenizer, data_file, num_samples=500, batch_size=50\n",
    ")"
   ]
  },
  {
   "cell_type": "code",
   "execution_count": 12,
   "metadata": {},
   "outputs": [
    {
     "name": "stderr",
     "output_type": "stream",
     "text": [
      "100%|██████████| 10/10 [00:21<00:00,  2.15s/it]\n",
      "10it [00:21,  2.15s/it]\n"
     ]
    },
    {
     "name": "stdout",
     "output_type": "stream",
     "text": [
      "Model Performance 0.66\n",
      "\n"
     ]
    },
    {
     "name": "stderr",
     "output_type": "stream",
     "text": [
      "100%|██████████| 10/10 [00:45<00:00,  4.54s/it]\n"
     ]
    },
    {
     "name": "stdout",
     "output_type": "stream",
     "text": [
      "Circuit Performance 0.66\n",
      "\n"
     ]
    },
    {
     "name": "stderr",
     "output_type": "stream",
     "text": [
      "100%|██████████| 10/10 [00:45<00:00,  4.55s/it]\n",
      "100%|██████████| 10/10 [00:45<00:00,  4.55s/it]\n",
      "100%|██████████| 10/10 [00:45<00:00,  4.57s/it]\n",
      "100%|██████████| 10/10 [00:45<00:00,  4.57s/it]\n",
      "100%|██████████| 10/10 [00:45<00:00,  4.50s/it]\n",
      "100%|██████████| 10/10 [00:45<00:00,  4.51s/it]\n",
      "100%|██████████| 10/10 [00:44<00:00,  4.50s/it]\n",
      "100%|██████████| 10/10 [00:45<00:00,  4.54s/it]\n",
      "100%|██████████| 10/10 [00:45<00:00,  4.53s/it]\n",
      "100%|██████████| 10/10 [00:45<00:00,  4.54s/it]"
     ]
    },
    {
     "name": "stdout",
     "output_type": "stream",
     "text": [
      "Random Circuit Performance 0.0\n",
      "Faithfulness: 1.0\n"
     ]
    },
    {
     "name": "stderr",
     "output_type": "stream",
     "text": [
      "\n"
     ]
    }
   ],
   "source": [
    "model_acc = eval_model_performance(model, dataloader)\n",
    "print(f\"Model Performance {model_acc}\\n\")\n",
    "\n",
    "circuit_components = get_circuit(model, llama_circuit)\n",
    "circuit_acc = eval_circuit_performance(\n",
    "    model, dataloader, modules, circuit_components, mean_activations\n",
    ")\n",
    "print(f\"Circuit Performance {circuit_acc}\\n\")\n",
    "\n",
    "random_circuit_acc = 0\n",
    "n_iters = 10\n",
    "for _ in range(n_iters):\n",
    "    random_circuit_components = get_random_circuit(model, llama_circuit)\n",
    "    random_circuit_acc += eval_circuit_performance(\n",
    "        model, dataloader, modules, random_circuit_components, mean_activations\n",
    "    )\n",
    "random_circuit_acc = round(random_circuit_acc / n_iters, 2)\n",
    "print(f\"Random Circuit Performance {random_circuit_acc}\")\n",
    "\n",
    "print(f\"Faithfulness: {round(circuit_acc/model_acc, 2)}\")"
   ]
  },
  {
   "cell_type": "markdown",
   "metadata": {},
   "source": [
    "## Model and Circuit Performance: Vicuna-7B"
   ]
  },
  {
   "cell_type": "code",
   "execution_count": 13,
   "metadata": {},
   "outputs": [
    {
     "data": {
      "application/vnd.jupyter.widget-view+json": {
       "model_id": "7f8af3c4976e453ab6f602d889bd685e",
       "version_major": 2,
       "version_minor": 0
      },
      "text/plain": [
       "Loading checkpoint shards:   0%|          | 0/14 [00:00<?, ?it/s]"
      ]
     },
     "metadata": {},
     "output_type": "display_data"
    }
   ],
   "source": [
    "path = \"AlekseyKorshuk/vicuna-7b\"\n",
    "\n",
    "# Delete model if present in memory\n",
    "if \"model\" in locals():\n",
    "    del model\n",
    "    torch.cuda.empty_cache()\n",
    "\n",
    "model = LlamaForCausalLM.from_pretrained(path).to(device)"
   ]
  },
  {
   "cell_type": "code",
   "execution_count": 14,
   "metadata": {},
   "outputs": [
    {
     "name": "stdout",
     "output_type": "stream",
     "text": [
      "Computing mean activations...\n"
     ]
    },
    {
     "name": "stderr",
     "output_type": "stream",
     "text": [
      "100%|██████████| 10/10 [00:21<00:00,  2.14s/it]\n"
     ]
    }
   ],
   "source": [
    "mean_activations, modules = get_mean_activations(\n",
    "    model, tokenizer, data_file, num_samples=500, batch_size=50\n",
    ")"
   ]
  },
  {
   "cell_type": "code",
   "execution_count": 15,
   "metadata": {},
   "outputs": [
    {
     "name": "stderr",
     "output_type": "stream",
     "text": [
      "100%|██████████| 10/10 [00:21<00:00,  2.14s/it]\n",
      "10it [00:21,  2.14s/it]\n"
     ]
    },
    {
     "name": "stdout",
     "output_type": "stream",
     "text": [
      "Model Performance 0.67\n",
      "\n"
     ]
    },
    {
     "name": "stderr",
     "output_type": "stream",
     "text": [
      "100%|██████████| 10/10 [00:45<00:00,  4.55s/it]\n"
     ]
    },
    {
     "name": "stdout",
     "output_type": "stream",
     "text": [
      "Circuit Performance 0.65\n",
      "\n"
     ]
    },
    {
     "name": "stderr",
     "output_type": "stream",
     "text": [
      "100%|██████████| 10/10 [00:45<00:00,  4.55s/it]\n",
      "100%|██████████| 10/10 [00:45<00:00,  4.55s/it]\n",
      "100%|██████████| 10/10 [00:45<00:00,  4.53s/it]\n",
      "100%|██████████| 10/10 [00:45<00:00,  4.51s/it]\n",
      "100%|██████████| 10/10 [00:45<00:00,  4.53s/it]\n",
      "100%|██████████| 10/10 [00:45<00:00,  4.54s/it]\n",
      "100%|██████████| 10/10 [00:45<00:00,  4.53s/it]\n",
      "100%|██████████| 10/10 [00:45<00:00,  4.54s/it]\n",
      "100%|██████████| 10/10 [00:45<00:00,  4.54s/it]\n",
      "100%|██████████| 10/10 [00:45<00:00,  4.54s/it]"
     ]
    },
    {
     "name": "stdout",
     "output_type": "stream",
     "text": [
      "Random Circuit Performance 0.0\n",
      "\n",
      "Faithfulness: 0.97\n"
     ]
    },
    {
     "name": "stderr",
     "output_type": "stream",
     "text": [
      "\n"
     ]
    }
   ],
   "source": [
    "model_acc = eval_model_performance(model, dataloader)\n",
    "print(f\"Model Performance {model_acc}\\n\")\n",
    "\n",
    "circuit_components = get_circuit(model, llama_circuit)\n",
    "circuit_acc = eval_circuit_performance(\n",
    "    model, dataloader, modules, circuit_components, mean_activations\n",
    ")\n",
    "print(f\"Circuit Performance {circuit_acc}\\n\")\n",
    "\n",
    "random_circuit_acc = 0\n",
    "n_iters = 10\n",
    "for _ in range(n_iters):\n",
    "    random_circuit_components = get_random_circuit(model, llama_circuit)\n",
    "    random_circuit_acc += eval_circuit_performance(\n",
    "        model, dataloader, modules, random_circuit_components, mean_activations\n",
    "    )\n",
    "random_circuit_acc = round(random_circuit_acc / n_iters, 2)\n",
    "print(f\"Random Circuit Performance {random_circuit_acc}\\n\")\n",
    "\n",
    "print(f\"Faithfulness: {round(circuit_acc/model_acc, 2)}\")"
   ]
  },
  {
   "cell_type": "markdown",
   "metadata": {},
   "source": [
    "## Model and Circuit Performance: Goat-7B"
   ]
  },
  {
   "cell_type": "code",
   "execution_count": 16,
   "metadata": {},
   "outputs": [
    {
     "data": {
      "application/vnd.jupyter.widget-view+json": {
       "model_id": "071c7ed7d04c45588661d8e7196d82b6",
       "version_major": 2,
       "version_minor": 0
      },
      "text/plain": [
       "Loading checkpoint shards:   0%|          | 0/33 [00:00<?, ?it/s]"
      ]
     },
     "metadata": {},
     "output_type": "display_data"
    }
   ],
   "source": [
    "base_model = \"decapoda-research/llama-7b-hf\"\n",
    "lora_weights = \"tiedong/goat-lora-7b\"\n",
    "\n",
    "# Delete model if present in memory\n",
    "if \"model\" in locals():\n",
    "    del model\n",
    "    torch.cuda.empty_cache()\n",
    "\n",
    "model = LlamaForCausalLM.from_pretrained(\n",
    "    base_model,\n",
    "    load_in_8bit=False,\n",
    "    torch_dtype=torch.float32,\n",
    "    device_map=\"auto\",\n",
    ")\n",
    "model = PeftModel.from_pretrained(\n",
    "    model,\n",
    "    lora_weights,\n",
    "    torch_dtype=torch.float32,\n",
    "    device_map={\"\": 0},\n",
    ")"
   ]
  },
  {
   "cell_type": "code",
   "execution_count": 17,
   "metadata": {},
   "outputs": [
    {
     "name": "stdout",
     "output_type": "stream",
     "text": [
      "Computing mean activations...\n"
     ]
    },
    {
     "name": "stderr",
     "output_type": "stream",
     "text": [
      "100%|██████████| 10/10 [00:22<00:00,  2.24s/it]\n"
     ]
    }
   ],
   "source": [
    "mean_activations, modules = get_mean_activations(\n",
    "    model, tokenizer, data_file, num_samples=500, batch_size=50\n",
    ")"
   ]
  },
  {
   "cell_type": "code",
   "execution_count": 18,
   "metadata": {},
   "outputs": [
    {
     "name": "stderr",
     "output_type": "stream",
     "text": [
      "100%|██████████| 10/10 [00:22<00:00,  2.23s/it]\n",
      "10it [00:22,  2.23s/it]\n"
     ]
    },
    {
     "name": "stdout",
     "output_type": "stream",
     "text": [
      "Model Performance: 0.82\n",
      "\n"
     ]
    },
    {
     "name": "stderr",
     "output_type": "stream",
     "text": [
      "100%|██████████| 10/10 [00:45<00:00,  4.60s/it]\n"
     ]
    },
    {
     "name": "stdout",
     "output_type": "stream",
     "text": [
      "Circuit Performance: 0.73\n",
      "\n"
     ]
    },
    {
     "name": "stderr",
     "output_type": "stream",
     "text": [
      "100%|██████████| 10/10 [00:46<00:00,  4.62s/it]\n",
      "100%|██████████| 10/10 [00:46<00:00,  4.63s/it]\n",
      "100%|██████████| 10/10 [00:46<00:00,  4.62s/it]\n",
      "100%|██████████| 10/10 [00:46<00:00,  4.69s/it]\n",
      "100%|██████████| 10/10 [00:46<00:00,  4.70s/it]\n",
      "100%|██████████| 10/10 [00:46<00:00,  4.69s/it]\n",
      "100%|██████████| 10/10 [00:46<00:00,  4.69s/it]\n",
      "100%|██████████| 10/10 [00:46<00:00,  4.67s/it]\n",
      "100%|██████████| 10/10 [00:46<00:00,  4.70s/it]\n",
      "100%|██████████| 10/10 [00:46<00:00,  4.69s/it]"
     ]
    },
    {
     "name": "stdout",
     "output_type": "stream",
     "text": [
      "Random Circuit Performance 0.01\n",
      "\n",
      "Faithfulness: 0.89\n"
     ]
    },
    {
     "name": "stderr",
     "output_type": "stream",
     "text": [
      "\n"
     ]
    }
   ],
   "source": [
    "model_acc = eval_model_performance(model, dataloader)\n",
    "print(f\"Model Performance: {model_acc}\\n\")\n",
    "\n",
    "circuit_components = get_circuit(model, llama_circuit)\n",
    "circuit_acc = eval_circuit_performance(\n",
    "    model, dataloader, modules, circuit_components, mean_activations\n",
    ")\n",
    "print(f\"Circuit Performance: {circuit_acc}\\n\")\n",
    "\n",
    "random_circuit_acc = 0\n",
    "n_iters = 10\n",
    "for _ in range(n_iters):\n",
    "    random_circuit_components = get_random_circuit(model, llama_circuit)\n",
    "    random_circuit_acc += eval_circuit_performance(\n",
    "        model, dataloader, modules, random_circuit_components, mean_activations\n",
    "    )\n",
    "random_circuit_acc = round(random_circuit_acc / n_iters, 2)\n",
    "print(f\"Random Circuit Performance {random_circuit_acc}\\n\")\n",
    "\n",
    "print(f\"Faithfulness: {round(circuit_acc/model_acc, 2)}\")"
   ]
  },
  {
   "cell_type": "markdown",
   "metadata": {},
   "source": [
    "## Model and Circuit Performance: Float-7B"
   ]
  },
  {
   "cell_type": "code",
   "execution_count": 19,
   "metadata": {},
   "outputs": [
    {
     "data": {
      "application/vnd.jupyter.widget-view+json": {
       "model_id": "ac013ae797d445b89544fe0aa0575ca4",
       "version_major": 2,
       "version_minor": 0
      },
      "text/plain": [
       "Loading checkpoint shards:   0%|          | 0/2 [00:00<?, ?it/s]"
      ]
     },
     "metadata": {},
     "output_type": "display_data"
    }
   ],
   "source": [
    "path = \"nikhil07prakash/float-7b\"\n",
    "\n",
    "# Delete model if present in memory\n",
    "if \"model\" in locals():\n",
    "    del model\n",
    "    torch.cuda.empty_cache()\n",
    "\n",
    "model = LlamaForCausalLM.from_pretrained(path).to(device)"
   ]
  },
  {
   "cell_type": "code",
   "execution_count": 20,
   "metadata": {},
   "outputs": [
    {
     "name": "stdout",
     "output_type": "stream",
     "text": [
      "Computing mean activations...\n"
     ]
    },
    {
     "name": "stderr",
     "output_type": "stream",
     "text": [
      "  0%|          | 0/10 [00:00<?, ?it/s]100%|██████████| 10/10 [00:21<00:00,  2.18s/it]\n"
     ]
    }
   ],
   "source": [
    "mean_activations, modules = get_mean_activations(\n",
    "    model, tokenizer, data_file, num_samples=500, batch_size=50\n",
    ")"
   ]
  },
  {
   "cell_type": "code",
   "execution_count": 21,
   "metadata": {},
   "outputs": [
    {
     "name": "stderr",
     "output_type": "stream",
     "text": [
      "100%|██████████| 10/10 [00:21<00:00,  2.18s/it]\n",
      "10it [00:21,  2.18s/it]\n"
     ]
    },
    {
     "name": "stdout",
     "output_type": "stream",
     "text": [
      "Model Performance 0.82\n"
     ]
    },
    {
     "name": "stderr",
     "output_type": "stream",
     "text": [
      "100%|██████████| 10/10 [00:45<00:00,  4.52s/it]\n"
     ]
    },
    {
     "name": "stdout",
     "output_type": "stream",
     "text": [
      "Circuit Performance 0.72\n"
     ]
    },
    {
     "name": "stderr",
     "output_type": "stream",
     "text": [
      "100%|██████████| 10/10 [00:45<00:00,  4.50s/it]\n",
      "100%|██████████| 10/10 [00:45<00:00,  4.52s/it]\n",
      "100%|██████████| 10/10 [00:45<00:00,  4.52s/it]\n",
      "100%|██████████| 10/10 [00:45<00:00,  4.52s/it]\n",
      "100%|██████████| 10/10 [00:45<00:00,  4.53s/it]\n",
      "100%|██████████| 10/10 [00:45<00:00,  4.52s/it]\n",
      "100%|██████████| 10/10 [00:45<00:00,  4.51s/it]\n",
      "100%|██████████| 10/10 [00:45<00:00,  4.51s/it]\n",
      "100%|██████████| 10/10 [00:45<00:00,  4.51s/it]\n",
      "100%|██████████| 10/10 [00:45<00:00,  4.51s/it]"
     ]
    },
    {
     "name": "stdout",
     "output_type": "stream",
     "text": [
      "Random Circuit Performance 0.01\n",
      "\n",
      "Faithfulness: 0.88\n"
     ]
    },
    {
     "name": "stderr",
     "output_type": "stream",
     "text": [
      "\n"
     ]
    }
   ],
   "source": [
    "model_acc = eval_model_performance(model, dataloader)\n",
    "print(f\"Model Performance {model_acc}\")\n",
    "\n",
    "circuit_components = get_circuit(model, llama_circuit)\n",
    "circuit_acc = eval_circuit_performance(\n",
    "    model, dataloader, modules, circuit_components, mean_activations\n",
    ")\n",
    "print(f\"Circuit Performance {circuit_acc}\")\n",
    "\n",
    "random_circuit_acc = 0\n",
    "n_iters = 10\n",
    "for _ in range(n_iters):\n",
    "    random_circuit_components = get_random_circuit(model, llama_circuit)\n",
    "    random_circuit_acc += eval_circuit_performance(\n",
    "        model, dataloader, modules, random_circuit_components, mean_activations\n",
    "    )\n",
    "random_circuit_acc = round(random_circuit_acc / n_iters, 2)\n",
    "print(f\"Random Circuit Performance {random_circuit_acc}\\n\")\n",
    "\n",
    "print(f\"Faithfulness: {round(circuit_acc/model_acc, 2)}\")"
   ]
  },
  {
   "cell_type": "markdown",
   "metadata": {},
   "source": [
    "## Circuit Comparison"
   ]
  },
  {
   "cell_type": "code",
   "execution_count": 7,
   "metadata": {},
   "outputs": [
    {
     "name": "stdout",
     "output_type": "stream",
     "text": [
      "value_fetcher: 40 | 68 | 27 | 0.68 | 0.4\n",
      "pos_transmitter: 7 | 29 | 7 | 1.0 | 0.24\n",
      "pos_detector: 20 | 40 | 15 | 0.75 | 0.38\n",
      "struct_reader: 5 | 38 | 5 | 1.0 | 0.13\n"
     ]
    }
   ],
   "source": [
    "head_groups = [\"value_fetcher\", \"pos_transmitter\", \"pos_detector\", \"struct_reader\"]\n",
    "\n",
    "for head_group in head_groups:\n",
    "    intersection = 0\n",
    "    for l, h in llama_circuit[head_group]:\n",
    "        if [l, h] in float_circuit[head_group]:\n",
    "            intersection += 1\n",
    "\n",
    "    precision = round(intersection / len(llama_circuit[head_group]), 2)\n",
    "    recall = round(intersection / len(float_circuit[head_group]), 2)\n",
    "\n",
    "    print(\n",
    "        f\"{head_group}: {len(llama_circuit[head_group])} | {len(float_circuit[head_group])} | {intersection} | {precision} | {recall}\"\n",
    "    )"
   ]
  },
  {
   "cell_type": "code",
   "execution_count": 55,
   "metadata": {},
   "outputs": [
    {
     "name": "stdout",
     "output_type": "stream",
     "text": [
      "Value Fetcher: 50\n",
      "Position Transmitter: 10\n",
      "Position Detector: 25\n",
      "Structure Reader: 5\n"
     ]
    }
   ],
   "source": [
    "n_value_fetcher = 58\n",
    "n_pos_trans = 10\n",
    "n_pos_detect = 25\n",
    "n_struct_read = 5\n",
    "pp_llama_root = \"./results/path_patching/llama_circuit\"\n",
    "\n",
    "path = f\"{pp_llama_root}/value_fetcher.pt\"\n",
    "patching_scores = torch.load(path)\n",
    "top_value_fetcher_llama_heads, top_value_fetcher_llama_score = compute_topk_components(\n",
    "    patching_scores, k=n_value_fetcher, largest=False, return_values=True\n",
    ")\n",
    "\n",
    "path = f\"{pp_llama_root}/pos_transmitter.pt\"\n",
    "patching_scores = torch.load(path)\n",
    "(\n",
    "    top_pos_transmitter_llama_heads,\n",
    "    top_pos_transmitter_llama_score,\n",
    ") = compute_topk_components(\n",
    "    patching_scores, k=n_pos_trans, largest=False, return_values=True\n",
    ")\n",
    "\n",
    "path = f\"{pp_llama_root}/pos_detector.pt\"\n",
    "patching_scores = torch.load(path)\n",
    "top_pos_detector_llama_heads, top_pos_detector_llama_score = compute_topk_components(\n",
    "    patching_scores, k=n_pos_detect, largest=False, return_values=True\n",
    ")\n",
    "\n",
    "path = f\"{pp_llama_root}/struct_reader.pt\"\n",
    "patching_scores = torch.load(path)\n",
    "top_struct_reader_llama_heads, top_struct_reader_llama_score = compute_topk_components(\n",
    "    patching_scores, k=n_struct_read, largest=False, return_values=True\n",
    ")\n",
    "\n",
    "# If a head is present in both top value_fetcher and position_transmitter, then\n",
    "# remove it from the top value_fetcher heads.\n",
    "intersection = []\n",
    "for head in top_value_fetcher_llama_heads:\n",
    "    if head in top_pos_transmitter_llama_heads:\n",
    "        intersection.append(head)\n",
    "\n",
    "for head in intersection:\n",
    "    idx = top_value_fetcher_llama_heads.index(head)\n",
    "    top_value_fetcher_llama_heads.pop(idx)\n",
    "    top_value_fetcher_llama_score.pop(idx)\n",
    "\n",
    "print(f\"Value Fetcher: {len(top_value_fetcher_llama_heads)}\")\n",
    "print(f\"Position Transmitter: {len(top_pos_transmitter_llama_heads)}\")\n",
    "print(f\"Position Detector: {len(top_pos_detector_llama_heads)}\")\n",
    "print(f\"Structure Reader: {len(top_struct_reader_llama_heads)}\")"
   ]
  },
  {
   "cell_type": "code",
   "execution_count": 56,
   "metadata": {},
   "outputs": [
    {
     "name": "stdout",
     "output_type": "stream",
     "text": [
      "40 7 20 5\n"
     ]
    }
   ],
   "source": [
    "llama_value_fetcher = llama_circuit[\"value_fetcher\"]\n",
    "llama_pos_transmitter = llama_circuit[\"pos_transmitter\"]\n",
    "llama_pos_detector = llama_circuit[\"pos_detector\"]\n",
    "llama_struct_reader = llama_circuit[\"struct_reader\"]\n",
    "\n",
    "print(\n",
    "    len(llama_value_fetcher),\n",
    "    len(llama_pos_transmitter),\n",
    "    len(llama_pos_detector),\n",
    "    len(llama_struct_reader),\n",
    ")"
   ]
  },
  {
   "cell_type": "code",
   "execution_count": 57,
   "metadata": {},
   "outputs": [],
   "source": [
    "# Create list of tuple of (head, patching_score, position) for each group in llama circuit\n",
    "llama_value_fetcher_tuple = []\n",
    "for head, score in zip(top_value_fetcher_llama_heads, top_value_fetcher_llama_score):\n",
    "    llama_value_fetcher_tuple.append((head, abs(score), 0))\n",
    "\n",
    "llama_pos_transmitter_tuple = []\n",
    "for head, score in zip(\n",
    "    top_pos_transmitter_llama_heads, top_pos_transmitter_llama_score\n",
    "):\n",
    "    llama_pos_transmitter_tuple.append((head, abs(score), 0))\n",
    "\n",
    "llama_pos_detector_tuple = []\n",
    "for head, score in zip(top_pos_detector_llama_heads, top_pos_detector_llama_score):\n",
    "    llama_pos_detector_tuple.append((head, abs(score), 2))\n",
    "\n",
    "llama_struct_reader_tuple = []\n",
    "for head, score in zip(top_struct_reader_llama_heads, top_struct_reader_llama_score):\n",
    "    llama_struct_reader_tuple.append((head, abs(score), -1))\n",
    "\n",
    "llama_circuit_tuple = (\n",
    "    llama_value_fetcher_tuple\n",
    "    + llama_pos_transmitter_tuple\n",
    "    + llama_pos_detector_tuple\n",
    "    + llama_struct_reader_tuple\n",
    ")\n",
    "llama_circuit_tuple = sorted(llama_circuit_tuple, key=lambda x: x[1], reverse=True)"
   ]
  },
  {
   "cell_type": "code",
   "execution_count": 58,
   "metadata": {},
   "outputs": [
    {
     "name": "stdout",
     "output_type": "stream",
     "text": [
      "Value Fetcher: 80\n",
      "Position Transmitter: 30\n",
      "Position Detector: 50\n",
      "Structure Reader: 40\n"
     ]
    }
   ],
   "source": [
    "n_value_fetcher = 102\n",
    "n_pos_trans = 30\n",
    "n_pos_detect = 50\n",
    "n_struct_read = 40\n",
    "pp_float_root = \"./results/path_patching/float_circuit\"\n",
    "\n",
    "path = f\"{pp_float_root}/value_fetcher.pt\"\n",
    "patching_scores = torch.load(path)\n",
    "top_value_fetcher_float_heads, top_value_fetcher_float_score = compute_topk_components(\n",
    "    patching_scores, k=n_value_fetcher, largest=False, return_values=True\n",
    ")\n",
    "\n",
    "path = f\"{pp_float_root}/pos_transmitter.pt\"\n",
    "patching_scores = torch.load(path)\n",
    "(\n",
    "    top_pos_transmitter_float_heads,\n",
    "    top_pos_transmitter_float_score,\n",
    ") = compute_topk_components(\n",
    "    patching_scores, k=n_pos_trans, largest=False, return_values=True\n",
    ")\n",
    "\n",
    "path = f\"{pp_float_root}/pos_detector.pt\"\n",
    "patching_scores = torch.load(path)\n",
    "top_pos_detector_float_heads, top_pos_detector_float_score = compute_topk_components(\n",
    "    patching_scores, k=n_pos_detect, largest=False, return_values=True\n",
    ")\n",
    "\n",
    "path = f\"{pp_float_root}/struct_reader.pt\"\n",
    "patching_scores = torch.load(path)\n",
    "top_struct_reader_float_heads, top_struct_reader_float_score = compute_topk_components(\n",
    "    patching_scores, k=n_struct_read, largest=False, return_values=True\n",
    ")\n",
    "\n",
    "# If a head is present in both top value_fetcher and position_transmitter, then\n",
    "# remove it from the top value_fetcher heads.\n",
    "intersection = []\n",
    "for head in top_value_fetcher_float_heads:\n",
    "    if head in top_pos_transmitter_float_heads:\n",
    "        intersection.append(head)\n",
    "\n",
    "for head in intersection:\n",
    "    idx = top_value_fetcher_float_heads.index(head)\n",
    "    top_value_fetcher_float_heads.pop(idx)\n",
    "    top_value_fetcher_float_score.pop(idx)\n",
    "\n",
    "print(f\"Value Fetcher: {len(top_value_fetcher_float_heads)}\")\n",
    "print(f\"Position Transmitter: {len(top_pos_transmitter_float_heads)}\")\n",
    "print(f\"Position Detector: {len(top_pos_detector_float_heads)}\")\n",
    "print(f\"Structure Reader: {len(top_struct_reader_float_heads)}\")"
   ]
  },
  {
   "cell_type": "code",
   "execution_count": 59,
   "metadata": {},
   "outputs": [
    {
     "name": "stdout",
     "output_type": "stream",
     "text": [
      "68 29 40 38\n"
     ]
    }
   ],
   "source": [
    "float_value_fetcher = float_circuit[\"value_fetcher\"]\n",
    "float_pos_transmitter = float_circuit[\"pos_transmitter\"]\n",
    "float_pos_detector = float_circuit[\"pos_detector\"]\n",
    "float_struct_reader = float_circuit[\"struct_reader\"]\n",
    "\n",
    "print(\n",
    "    len(float_value_fetcher),\n",
    "    len(float_pos_transmitter),\n",
    "    len(float_pos_detector),\n",
    "    len(float_struct_reader),\n",
    ")"
   ]
  },
  {
   "cell_type": "code",
   "execution_count": 60,
   "metadata": {},
   "outputs": [],
   "source": [
    "# Create list of tuple of (head, patching_score, position) for each group in Goat circuit\n",
    "float_value_fetcher_tuple = []\n",
    "for head, score in zip(top_value_fetcher_float_heads, top_value_fetcher_float_score):\n",
    "    float_value_fetcher_tuple.append((head, abs(score), 0))\n",
    "\n",
    "float_pos_transmitter_tuple = []\n",
    "for head, score in zip(top_pos_transmitter_float_heads, top_pos_transmitter_float_score):\n",
    "    float_pos_transmitter_tuple.append((head, abs(score), 0))\n",
    "\n",
    "float_pos_detector_tuple = []\n",
    "for head, score in zip(top_pos_detector_float_heads, top_pos_detector_float_score):\n",
    "    float_pos_detector_tuple.append((head, abs(score), 2))\n",
    "\n",
    "float_struct_reader_tuple = []\n",
    "for head, score in zip(top_struct_reader_float_heads, top_struct_reader_float_score):\n",
    "    float_struct_reader_tuple.append((head, abs(score), -1))\n",
    "\n",
    "float_circuit_tuple = (\n",
    "    float_value_fetcher_tuple\n",
    "    + float_pos_transmitter_tuple\n",
    "    + float_pos_detector_tuple\n",
    "    + float_struct_reader_tuple\n",
    ")\n",
    "float_circuit_tuple = sorted(float_circuit_tuple, key=lambda x: x[1], reverse=True)"
   ]
  },
  {
   "cell_type": "code",
   "execution_count": 61,
   "metadata": {},
   "outputs": [],
   "source": [
    "# For each head in float_circuit_tuple, find the corresponding head in llama_circuit_tuple\n",
    "# and append it to a new list. If the head is not present in llama_circuit_tuple, then\n",
    "# append it the same list with a patching score of 0.\n",
    "ordered_llama_circuit_tuple = []\n",
    "for f_head, f_score, f_pos in float_circuit_tuple:\n",
    "    found = False\n",
    "    for l_head, l_score, l_pos in llama_circuit_tuple:\n",
    "        if f_head == l_head and f_pos == l_pos:\n",
    "            ordered_llama_circuit_tuple.append((l_head, l_score, l_pos))\n",
    "            found = True\n",
    "            break\n",
    "\n",
    "    if not found:\n",
    "        ordered_llama_circuit_tuple.append((f_head, 0, f_pos))"
   ]
  },
  {
   "cell_type": "code",
   "execution_count": 62,
   "metadata": {},
   "outputs": [
    {
     "data": {
      "text/plain": [
       "[]"
      ]
     },
     "execution_count": 62,
     "metadata": {},
     "output_type": "execute_result"
    },
    {
     "data": {
      "image/png": "[encoded data removed]",
      "text/plain": [
       "<Figure size 1500x500 with 2 Axes>"
      ]
     },
     "metadata": {},
     "output_type": "display_data"
    }
   ],
   "source": [
    "fig, (ax1, ax2) = plt.subplots(2, 1, figsize=(15, 5), sharex=True)\n",
    "\n",
    "# Use times new roman font\n",
    "plt.rcParams[\"font.family\"] = \"Times New Roman\"\n",
    "plt.rcParams[\"font.size\"] = 18\n",
    "\n",
    "ax1.bar(\n",
    "    [i for i in range(len(float_circuit_tuple))],\n",
    "    [score for _, score, _ in float_circuit_tuple],\n",
    "    color=\"red\",\n",
    ")\n",
    "for i in range(len(float_circuit_tuple)):\n",
    "    if (\n",
    "        float_circuit_tuple[i][0] not in float_value_fetcher\n",
    "        and float_circuit_tuple[i][0] not in float_pos_transmitter\n",
    "        and float_circuit_tuple[i][0] not in float_pos_detector\n",
    "        and float_circuit_tuple[i][0] not in float_struct_reader\n",
    "    ):\n",
    "        ax1.bar(\n",
    "            i,\n",
    "            float_circuit_tuple[i][1],\n",
    "            color=\"silver\",\n",
    "        )\n",
    "\n",
    "red_patch = mpatches.Patch(color=\"red\", label=\"Heads in FLoat Circuit\")\n",
    "silver_patch = mpatches.Patch(color=\"silver\", label=\"Heads NOT in FLoat Circuit\")\n",
    "ax1.legend(handles=[red_patch, silver_patch], loc=\"upper right\")\n",
    "\n",
    "ax2.bar(\n",
    "    [i for i in range(len(ordered_llama_circuit_tuple))],\n",
    "    [score for _, score, _ in ordered_llama_circuit_tuple],\n",
    "    color=\"green\",\n",
    ")\n",
    "for i in range(len(ordered_llama_circuit_tuple)):\n",
    "    if (\n",
    "        ordered_llama_circuit_tuple[i][0] not in llama_value_fetcher\n",
    "        and ordered_llama_circuit_tuple[i][0] not in llama_pos_transmitter\n",
    "        and ordered_llama_circuit_tuple[i][0] not in llama_pos_detector\n",
    "        and ordered_llama_circuit_tuple[i][0] not in llama_struct_reader\n",
    "    ):\n",
    "        ax2.bar(\n",
    "            i,\n",
    "            ordered_llama_circuit_tuple[i][1],\n",
    "            color=\"silver\",\n",
    "        )\n",
    "\n",
    "green_patch = mpatches.Patch(color=\"green\", label=\"Heads in Llama Circuit\")\n",
    "silver_patch = mpatches.Patch(color=\"silver\", label=\"Heads NOT in Llama Circuit\")\n",
    "ax2.legend(handles=[green_patch, silver_patch], loc=\"lower right\")\n",
    "\n",
    "# Remove the blank space before and after the bar chart\n",
    "plt.xlim(-1, 200 - 0.5)\n",
    "\n",
    "# Reduce the gap between the two subplots\n",
    "plt.subplots_adjust(hspace=0.01)\n",
    "# Flip the y-axis of the second subplot\n",
    "ax2.invert_yaxis()\n",
    "# Remove 0.0 from the y-axis of the second subplot\n",
    "ax1.set_yticks([0.1, 0.2, 0.3])\n",
    "ax2.set_yticks([0.1, 0.2, 0.3])\n",
    "\n",
    "# Set a single y-axis label for both subplots\n",
    "fig.text(0.07, 0.5, \"Absolute Patching Score\", va=\"center\", rotation=\"vertical\")\n",
    "\n",
    "ax2.set_xlabel(\"Heads\")\n",
    "ax1.set_title(\"Causal Impact of Heads in Llama and FLoat Circuit\")\n",
    "\n",
    "# Remove plox plot frame\n",
    "ax1.spines[\"top\"].set_visible(False)\n",
    "ax1.spines[\"right\"].set_visible(False)\n",
    "ax1.spines[\"bottom\"].set_visible(False)\n",
    "ax1.spines[\"left\"].set_visible(False)\n",
    "\n",
    "ax2.spines[\"top\"].set_visible(False)\n",
    "ax2.spines[\"right\"].set_visible(False)\n",
    "ax2.spines[\"bottom\"].set_visible(False)\n",
    "ax2.spines[\"left\"].set_visible(False)\n",
    "\n",
    "# Save the plot\n",
    "# plt.plot()\n",
    "plt.savefig(\"./results/figures/float_llama_causal_impact.pdf\", bbox_inches=\"tight\", dpi=300)"
   ]
  },
  {
   "cell_type": "code",
   "execution_count": null,
   "metadata": {},
   "outputs": [],
   "source": []
  }
 ],
 "metadata": {
  "kernelspec": {
   "display_name": "Python 3 (ipykernel)",
   "language": "python",
   "name": "python3"
  },
  "language_info": {
   "codemirror_mode": {
    "name": "ipython",
    "version": 3
   },
   "file_extension": ".py",
   "mimetype": "text/x-python",
   "name": "python",
   "nbconvert_exporter": "python",
   "pygments_lexer": "ipython3",
   "version": "3.10.4"
  }
 },
 "nbformat": 4,
 "nbformat_minor": 2
}
